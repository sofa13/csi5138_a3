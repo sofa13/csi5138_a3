{
 "cells": [
  {
   "cell_type": "markdown",
   "metadata": {},
   "source": [
    "**CSI 5138 Homework 3**\n",
    "\n",
    "Use Vanilla RNN and LSTM to for text classification and sentiment analysis on a standard dataset of movie reviews."
   ]
  },
  {
   "cell_type": "markdown",
   "metadata": {},
   "source": [
    "# Setup"
   ]
  },
  {
   "cell_type": "code",
   "execution_count": null,
   "metadata": {},
   "outputs": [],
   "source": [
    "from gensim.scripts.glove2word2vec import glove2word2vec\n",
    "from gensim.models import KeyedVectors\n",
    "import gensim\n",
    "\n",
    "import keras\n",
    "from keras.preprocessing.text import Tokenizer\n",
    "from keras.preprocessing.sequence import pad_sequences\n",
    "from keras.utils import to_categorical\n",
    "from keras.layers import Embedding\n",
    "from keras.layers import Input\n",
    "from keras.layers import Dense, Flatten\n",
    "from keras.layers import Conv1D, MaxPooling1D\n",
    "from keras.models import Model\n",
    "#from keras import backend as K\n",
    "\n",
    "from sklearn.metrics import accuracy_score\n",
    "from keras.datasets import reuters\n",
    "from keras.preprocessing.sequence import pad_sequences\n",
    "from keras.utils import to_categorical\n",
    "from keras.models import Sequential\n",
    "from keras.layers import Dense, SimpleRNN, Activation\n",
    "from keras import optimizers\n",
    "from keras.wrappers.scikit_learn import KerasClassifier\n",
    "\n",
    "import os\n",
    "import numpy as np\n",
    "\n",
    "from pprint import pprint"
   ]
  },
  {
   "cell_type": "markdown",
   "metadata": {},
   "source": [
    "# IMDB Movie Review Dataset, Test and Training Data"
   ]
  },
  {
   "cell_type": "code",
   "execution_count": 2,
   "metadata": {},
   "outputs": [],
   "source": [
    "def processReviews(paths):\n",
    "    texts = []\n",
    "    ratings = []\n",
    "    \n",
    "    for path in paths:\n",
    "        for file in os.listdir(path):\n",
    "            # get review\n",
    "            rating = file.split('_')[1]\n",
    "            rating = rating.split('.')[0]\n",
    "            file = os.path.join(path, file)\n",
    "            with open(file, \"r\", encoding='utf-8') as f:\n",
    "                text = []\n",
    "                for line in f:\n",
    "                    # do some pre-processing and combine list of words for each review text             \n",
    "                    text += gensim.utils.simple_preprocess(line)\n",
    "                texts.append(text)\n",
    "                ratings.append(rating)\n",
    "        \n",
    "    return [texts, ratings]"
   ]
  },
  {
   "cell_type": "code",
   "execution_count": 3,
   "metadata": {},
   "outputs": [],
   "source": [
    "Xtrain, ytrain = processReviews([\"./aclImdb/train/neg/\", \"./aclImdb/train/pos/\"])\n",
    "Xtest, ytest = processReviews([\"./aclImdb/test/neg/\", \"./aclImdb/test/pos/\"])"
   ]
  },
  {
   "cell_type": "code",
   "execution_count": 9,
   "metadata": {},
   "outputs": [
    {
     "name": "stdout",
     "output_type": "stream",
     "text": [
      "['story', 'of', 'man', 'who', 'has']\n",
      "3\n",
      "['once', 'again', 'mr', 'costner', 'has']\n",
      "2\n",
      "['bromwell', 'high', 'is', 'cartoon', 'comedy']\n",
      "9\n",
      "['went', 'and', 'saw', 'this', 'movie']\n",
      "10\n",
      "# Xtrain:  25000\n",
      "# ytrain:  25000\n",
      "# Xtest:  25000\n",
      "# ytest:  25000\n"
     ]
    }
   ],
   "source": [
    "print(Xtrain[0][:5])\n",
    "print(ytrain[0])\n",
    "print(Xtest[0][:5])\n",
    "print(ytest[0])\n",
    "print(Xtrain[12500][:5])\n",
    "print(ytrain[12500])\n",
    "print(Xtest[12500][:5])\n",
    "print(ytest[12500])\n",
    "print(\"# Xtrain: \", len(Xtrain))\n",
    "print(\"# ytrain: \", len(ytrain))\n",
    "print(\"# Xtest: \", len(Xtest))\n",
    "print(\"# ytest: \", len(ytest))"
   ]
  },
  {
   "cell_type": "code",
   "execution_count": 5,
   "metadata": {},
   "outputs": [
    {
     "name": "stdout",
     "output_type": "stream",
     "text": [
      "# X:  50000\n",
      "# y:  50000\n"
     ]
    }
   ],
   "source": [
    "X = list(Xtrain + Xtest)\n",
    "y = list(ytrain + ytest)\n",
    "print(\"# X: \", len(X))\n",
    "print(\"# y: \", len(y))"
   ]
  },
  {
   "cell_type": "markdown",
   "metadata": {},
   "source": [
    "# Word embedding vectors"
   ]
  },
  {
   "cell_type": "markdown",
   "metadata": {},
   "source": [
    "### Try Keras with Glove"
   ]
  },
  {
   "cell_type": "code",
   "execution_count": 18,
   "metadata": {},
   "outputs": [
    {
     "name": "stdout",
     "output_type": "stream",
     "text": [
      "Found 99476 unique tokens.\n",
      "Shape of data tensor: (50000, 2380)\n",
      "Shape of label tensor: (50000, 11)\n",
      "[0. 0. 0. 1. 0. 0. 0. 0. 0. 0. 0.]\n",
      "Shape of label tensor: (50000, 10)\n",
      "[0. 0. 1. 0. 0. 0. 0. 0. 0. 0.]\n",
      "[3776  523   12 ...    0    0    0]\n"
     ]
    }
   ],
   "source": [
    "tokenizer = Tokenizer()\n",
    "tokenizer.fit_on_texts(X)\n",
    "sequences = tokenizer.texts_to_sequences(X)\n",
    "\n",
    "word_index = tokenizer.word_index\n",
    "print('Found %s unique tokens.' % len(word_index))\n",
    "\n",
    "data = pad_sequences(sequences, padding='post')\n",
    "\n",
    "labels = to_categorical(np.asarray(y))\n",
    "print('Shape of data tensor:', data.shape)\n",
    "print('Shape of label tensor:', labels.shape)\n",
    "print(labels[0])\n",
    "\n",
    "# reviews are on a 1-10 scale\n",
    "# indices 0-3 are neg reviews <= 4, indices 6-9 are pos reviews >=7\n",
    "labels = labels[:,1:]\n",
    "print('Shape of label tensor:', labels.shape)\n",
    "print(labels[0])\n",
    "\n",
    "print(data[1])"
   ]
  },
  {
   "cell_type": "code",
   "execution_count": 21,
   "metadata": {},
   "outputs": [
    {
     "name": "stdout",
     "output_type": "stream",
     "text": [
      "Found 400000 word vectors.\n"
     ]
    }
   ],
   "source": [
    "embeddings_index = {}\n",
    "glove_file = './glove.6B/glove.6B.100d.txt'\n",
    "\n",
    "with open(glove_file, \"r\", encoding='utf-8') as f:\n",
    "    for line in f:\n",
    "        values = line.split()\n",
    "        word = values[0]\n",
    "        coefs = np.asarray(values[1:], dtype='float32')\n",
    "        embeddings_index[word] = coefs\n",
    "\n",
    "print('Found %s word vectors.' % len(embeddings_index))"
   ]
  },
  {
   "cell_type": "code",
   "execution_count": 22,
   "metadata": {},
   "outputs": [],
   "source": [
    "EMBEDDING_DIM=100\n",
    "embedding_matrix = np.zeros((len(word_index) + 1, EMBEDDING_DIM))\n",
    "for word, i in word_index.items():\n",
    "    embedding_vector = embeddings_index.get(word)\n",
    "    if embedding_vector is not None:\n",
    "        # words not found in embedding index will be all-zeros.\n",
    "        embedding_matrix[i] = embedding_vector"
   ]
  },
  {
   "cell_type": "code",
   "execution_count": 23,
   "metadata": {},
   "outputs": [
    {
     "name": "stdout",
     "output_type": "stream",
     "text": [
      "99476\n",
      "99477\n"
     ]
    }
   ],
   "source": [
    "print(len(word_index))\n",
    "print(len(embedding_matrix))"
   ]
  },
  {
   "cell_type": "code",
   "execution_count": 24,
   "metadata": {},
   "outputs": [
    {
     "name": "stdout",
     "output_type": "stream",
     "text": [
      "682\n",
      "1577\n",
      "[-0.32306999 -0.87616003  0.21977     0.25268     0.22976001]\n",
      "[-0.50045002 -0.70826     0.55387998  0.67299998  0.22486   ]\n",
      "[ 0.056951   -0.011958    0.45949    -0.40204999  0.11432   ]\n",
      "[0. 0. 0. 0. 0.]\n"
     ]
    }
   ],
   "source": [
    "#print(list(word_index.items())[100])\n",
    "# sentence word_index = 101\n",
    "print(word_index['king'])\n",
    "print(word_index['queen'])\n",
    "print(embedding_matrix[682][:5])\n",
    "print(embedding_matrix[1577][:5])\n",
    "print(embedding_matrix[101][:5])\n",
    "print(embedding_matrix[0][:5])"
   ]
  },
  {
   "cell_type": "code",
   "execution_count": 25,
   "metadata": {},
   "outputs": [],
   "source": [
    "embedding_layer = Embedding(len(word_index) + 1,\n",
    "                            EMBEDDING_DIM,\n",
    "                            weights=[embedding_matrix],\n",
    "                            trainable=False)"
   ]
  },
  {
   "cell_type": "markdown",
   "metadata": {},
   "source": [
    "# Train, validation and test sets"
   ]
  },
  {
   "cell_type": "code",
   "execution_count": 19,
   "metadata": {},
   "outputs": [],
   "source": [
    "# separate train, val and test. Take test as half val, half test.\n",
    "X_train, y_train = data[:25000], labels[:25000]\n",
    "X_val, y_val = data[25000:37500], labels[25000:37500]\n",
    "X_test, y_test = data[37500:], labels[37500:]"
   ]
  },
  {
   "cell_type": "code",
   "execution_count": 20,
   "metadata": {},
   "outputs": [
    {
     "name": "stdout",
     "output_type": "stream",
     "text": [
      "# x_train:  25000\n",
      "# x_val:  12500\n",
      "# x_test:  12500\n"
     ]
    }
   ],
   "source": [
    "print(\"# x_train: \", len(X_train))\n",
    "print(\"# x_val: \", len(X_val))\n",
    "print(\"# x_test: \", len(X_test))"
   ]
  },
  {
   "cell_type": "markdown",
   "metadata": {},
   "source": [
    "# Models"
   ]
  },
  {
   "cell_type": "markdown",
   "metadata": {},
   "source": [
    "### Vanilla RNN"
   ]
  },
  {
   "cell_type": "code",
   "execution_count": 26,
   "metadata": {},
   "outputs": [
    {
     "name": "stdout",
     "output_type": "stream",
     "text": [
      "num_words : 99476\n",
      "Train on 25000 samples, validate on 12500 samples\n",
      "Epoch 1/100\n",
      "25000/25000 [==============================] - 350s 14ms/step - loss: 2.0786 - acc: 0.1893 - val_loss: 2.0042 - val_acc: 0.4014\n",
      "Epoch 2/100\n",
      "25000/25000 [==============================] - 342s 14ms/step - loss: 2.0341 - acc: 0.2002 - val_loss: 1.9746 - val_acc: 0.4018\n",
      "Epoch 3/100\n",
      "25000/25000 [==============================] - 346s 14ms/step - loss: 2.0316 - acc: 0.1990 - val_loss: 2.0328 - val_acc: 0.4018\n",
      "Epoch 4/100\n",
      "25000/25000 [==============================] - 344s 14ms/step - loss: 2.0300 - acc: 0.2010 - val_loss: 1.9897 - val_acc: 0.4018\n",
      "Epoch 5/100\n",
      "25000/25000 [==============================] - 362s 14ms/step - loss: 2.0295 - acc: 0.2003 - val_loss: 1.9617 - val_acc: 0.4018\n",
      "Epoch 6/100\n",
      "25000/25000 [==============================] - 348s 14ms/step - loss: 2.0298 - acc: 0.2012 - val_loss: 2.0509 - val_acc: 0.4018\n",
      "Epoch 7/100\n",
      "25000/25000 [==============================] - 349s 14ms/step - loss: 2.0294 - acc: 0.1990 - val_loss: 2.0615 - val_acc: 0.0000e+00\n",
      "Epoch 8/100\n",
      "25000/25000 [==============================] - 342s 14ms/step - loss: 2.0290 - acc: 0.2025 - val_loss: 2.0206 - val_acc: 0.4018\n",
      "Epoch 9/100\n",
      "25000/25000 [==============================] - 339s 14ms/step - loss: 2.0293 - acc: 0.2026 - val_loss: 1.9888 - val_acc: 0.4018\n",
      "Epoch 10/100\n",
      "25000/25000 [==============================] - 339s 14ms/step - loss: 2.0293 - acc: 0.2012 - val_loss: 1.9992 - val_acc: 0.4018\n",
      "Epoch 11/100\n",
      "25000/25000 [==============================] - 5715s 229ms/step - loss: 2.0291 - acc: 0.2025 - val_loss: 2.0402 - val_acc: 0.0000e+00\n",
      "Epoch 12/100\n",
      "25000/25000 [==============================] - 260s 10ms/step - loss: 2.0295 - acc: 0.2013 - val_loss: 2.0187 - val_acc: 0.4018\n",
      "Epoch 13/100\n",
      "25000/25000 [==============================] - 236s 9ms/step - loss: 2.0288 - acc: 0.1998 - val_loss: 2.0260 - val_acc: 0.4018\n",
      "Epoch 14/100\n",
      "25000/25000 [==============================] - 221s 9ms/step - loss: 2.0286 - acc: 0.2013 - val_loss: 2.0086 - val_acc: 0.4018\n",
      "Epoch 15/100\n",
      "25000/25000 [==============================] - 227s 9ms/step - loss: 2.0285 - acc: 0.2026 - val_loss: 2.0578 - val_acc: 0.4018\n",
      "Epoch 16/100\n",
      " 6900/25000 [=======>......................] - ETA: 2:12 - loss: 2.0342 - acc: 0.1987"
     ]
    },
    {
     "ename": "KeyboardInterrupt",
     "evalue": "",
     "output_type": "error",
     "traceback": [
      "\u001b[1;31m---------------------------------------------------------------------------\u001b[0m",
      "\u001b[1;31mKeyboardInterrupt\u001b[0m                         Traceback (most recent call last)",
      "\u001b[1;32m<ipython-input-26-be38d3df529d>\u001b[0m in \u001b[0;36m<module>\u001b[1;34m()\u001b[0m\n\u001b[0;32m     26\u001b[0m \u001b[1;33m\u001b[0m\u001b[0m\n\u001b[0;32m     27\u001b[0m \u001b[0mmodel\u001b[0m \u001b[1;33m=\u001b[0m \u001b[0mvanilla_rnn\u001b[0m\u001b[1;33m(\u001b[0m\u001b[1;33m)\u001b[0m\u001b[1;33m\u001b[0m\u001b[0m\n\u001b[1;32m---> 28\u001b[1;33m \u001b[0mmodel\u001b[0m\u001b[1;33m.\u001b[0m\u001b[0mfit\u001b[0m\u001b[1;33m(\u001b[0m\u001b[0mX_train\u001b[0m\u001b[1;33m,\u001b[0m \u001b[0my_train\u001b[0m\u001b[1;33m,\u001b[0m \u001b[0mvalidation_data\u001b[0m\u001b[1;33m=\u001b[0m\u001b[1;33m(\u001b[0m\u001b[0mX_val\u001b[0m\u001b[1;33m,\u001b[0m \u001b[0my_val\u001b[0m\u001b[1;33m)\u001b[0m\u001b[1;33m,\u001b[0m \u001b[0mepochs\u001b[0m\u001b[1;33m=\u001b[0m\u001b[1;36m100\u001b[0m\u001b[1;33m,\u001b[0m \u001b[0mbatch_size\u001b[0m\u001b[1;33m=\u001b[0m\u001b[1;36m100\u001b[0m\u001b[1;33m,\u001b[0m \u001b[0mverbose\u001b[0m\u001b[1;33m=\u001b[0m\u001b[1;36m1\u001b[0m\u001b[1;33m)\u001b[0m\u001b[1;33m\u001b[0m\u001b[0m\n\u001b[0m\u001b[0;32m     29\u001b[0m \u001b[1;33m\u001b[0m\u001b[0m\n\u001b[0;32m     30\u001b[0m \u001b[0mscore\u001b[0m \u001b[1;33m=\u001b[0m \u001b[0mmodel\u001b[0m\u001b[1;33m.\u001b[0m\u001b[0mevaluate\u001b[0m\u001b[1;33m(\u001b[0m\u001b[0mX_test\u001b[0m\u001b[1;33m,\u001b[0m \u001b[0my_test\u001b[0m\u001b[1;33m,\u001b[0m \u001b[0mverbose\u001b[0m\u001b[1;33m=\u001b[0m\u001b[1;36m0\u001b[0m\u001b[1;33m)\u001b[0m\u001b[1;33m\u001b[0m\u001b[0m\n",
      "\u001b[1;32m~\\Anaconda3\\lib\\site-packages\\keras\\engine\\training.py\u001b[0m in \u001b[0;36mfit\u001b[1;34m(self, x, y, batch_size, epochs, verbose, callbacks, validation_split, validation_data, shuffle, class_weight, sample_weight, initial_epoch, steps_per_epoch, validation_steps, **kwargs)\u001b[0m\n\u001b[0;32m   1037\u001b[0m                                         \u001b[0minitial_epoch\u001b[0m\u001b[1;33m=\u001b[0m\u001b[0minitial_epoch\u001b[0m\u001b[1;33m,\u001b[0m\u001b[1;33m\u001b[0m\u001b[0m\n\u001b[0;32m   1038\u001b[0m                                         \u001b[0msteps_per_epoch\u001b[0m\u001b[1;33m=\u001b[0m\u001b[0msteps_per_epoch\u001b[0m\u001b[1;33m,\u001b[0m\u001b[1;33m\u001b[0m\u001b[0m\n\u001b[1;32m-> 1039\u001b[1;33m                                         validation_steps=validation_steps)\n\u001b[0m\u001b[0;32m   1040\u001b[0m \u001b[1;33m\u001b[0m\u001b[0m\n\u001b[0;32m   1041\u001b[0m     def evaluate(self, x=None, y=None,\n",
      "\u001b[1;32m~\\Anaconda3\\lib\\site-packages\\keras\\engine\\training_arrays.py\u001b[0m in \u001b[0;36mfit_loop\u001b[1;34m(model, f, ins, out_labels, batch_size, epochs, verbose, callbacks, val_f, val_ins, shuffle, callback_metrics, initial_epoch, steps_per_epoch, validation_steps)\u001b[0m\n\u001b[0;32m    197\u001b[0m                     \u001b[0mins_batch\u001b[0m\u001b[1;33m[\u001b[0m\u001b[0mi\u001b[0m\u001b[1;33m]\u001b[0m \u001b[1;33m=\u001b[0m \u001b[0mins_batch\u001b[0m\u001b[1;33m[\u001b[0m\u001b[0mi\u001b[0m\u001b[1;33m]\u001b[0m\u001b[1;33m.\u001b[0m\u001b[0mtoarray\u001b[0m\u001b[1;33m(\u001b[0m\u001b[1;33m)\u001b[0m\u001b[1;33m\u001b[0m\u001b[0m\n\u001b[0;32m    198\u001b[0m \u001b[1;33m\u001b[0m\u001b[0m\n\u001b[1;32m--> 199\u001b[1;33m                 \u001b[0mouts\u001b[0m \u001b[1;33m=\u001b[0m \u001b[0mf\u001b[0m\u001b[1;33m(\u001b[0m\u001b[0mins_batch\u001b[0m\u001b[1;33m)\u001b[0m\u001b[1;33m\u001b[0m\u001b[0m\n\u001b[0m\u001b[0;32m    200\u001b[0m                 \u001b[0mouts\u001b[0m \u001b[1;33m=\u001b[0m \u001b[0mto_list\u001b[0m\u001b[1;33m(\u001b[0m\u001b[0mouts\u001b[0m\u001b[1;33m)\u001b[0m\u001b[1;33m\u001b[0m\u001b[0m\n\u001b[0;32m    201\u001b[0m                 \u001b[1;32mfor\u001b[0m \u001b[0ml\u001b[0m\u001b[1;33m,\u001b[0m \u001b[0mo\u001b[0m \u001b[1;32min\u001b[0m \u001b[0mzip\u001b[0m\u001b[1;33m(\u001b[0m\u001b[0mout_labels\u001b[0m\u001b[1;33m,\u001b[0m \u001b[0mouts\u001b[0m\u001b[1;33m)\u001b[0m\u001b[1;33m:\u001b[0m\u001b[1;33m\u001b[0m\u001b[0m\n",
      "\u001b[1;32m~\\Anaconda3\\lib\\site-packages\\keras\\backend\\tensorflow_backend.py\u001b[0m in \u001b[0;36m__call__\u001b[1;34m(self, inputs)\u001b[0m\n\u001b[0;32m   2713\u001b[0m                 \u001b[1;32mreturn\u001b[0m \u001b[0mself\u001b[0m\u001b[1;33m.\u001b[0m\u001b[0m_legacy_call\u001b[0m\u001b[1;33m(\u001b[0m\u001b[0minputs\u001b[0m\u001b[1;33m)\u001b[0m\u001b[1;33m\u001b[0m\u001b[0m\n\u001b[0;32m   2714\u001b[0m \u001b[1;33m\u001b[0m\u001b[0m\n\u001b[1;32m-> 2715\u001b[1;33m             \u001b[1;32mreturn\u001b[0m \u001b[0mself\u001b[0m\u001b[1;33m.\u001b[0m\u001b[0m_call\u001b[0m\u001b[1;33m(\u001b[0m\u001b[0minputs\u001b[0m\u001b[1;33m)\u001b[0m\u001b[1;33m\u001b[0m\u001b[0m\n\u001b[0m\u001b[0;32m   2716\u001b[0m         \u001b[1;32melse\u001b[0m\u001b[1;33m:\u001b[0m\u001b[1;33m\u001b[0m\u001b[0m\n\u001b[0;32m   2717\u001b[0m             \u001b[1;32mif\u001b[0m \u001b[0mpy_any\u001b[0m\u001b[1;33m(\u001b[0m\u001b[0mis_tensor\u001b[0m\u001b[1;33m(\u001b[0m\u001b[0mx\u001b[0m\u001b[1;33m)\u001b[0m \u001b[1;32mfor\u001b[0m \u001b[0mx\u001b[0m \u001b[1;32min\u001b[0m \u001b[0minputs\u001b[0m\u001b[1;33m)\u001b[0m\u001b[1;33m:\u001b[0m\u001b[1;33m\u001b[0m\u001b[0m\n",
      "\u001b[1;32m~\\Anaconda3\\lib\\site-packages\\keras\\backend\\tensorflow_backend.py\u001b[0m in \u001b[0;36m_call\u001b[1;34m(self, inputs)\u001b[0m\n\u001b[0;32m   2673\u001b[0m             \u001b[0mfetched\u001b[0m \u001b[1;33m=\u001b[0m \u001b[0mself\u001b[0m\u001b[1;33m.\u001b[0m\u001b[0m_callable_fn\u001b[0m\u001b[1;33m(\u001b[0m\u001b[1;33m*\u001b[0m\u001b[0marray_vals\u001b[0m\u001b[1;33m,\u001b[0m \u001b[0mrun_metadata\u001b[0m\u001b[1;33m=\u001b[0m\u001b[0mself\u001b[0m\u001b[1;33m.\u001b[0m\u001b[0mrun_metadata\u001b[0m\u001b[1;33m)\u001b[0m\u001b[1;33m\u001b[0m\u001b[0m\n\u001b[0;32m   2674\u001b[0m         \u001b[1;32melse\u001b[0m\u001b[1;33m:\u001b[0m\u001b[1;33m\u001b[0m\u001b[0m\n\u001b[1;32m-> 2675\u001b[1;33m             \u001b[0mfetched\u001b[0m \u001b[1;33m=\u001b[0m \u001b[0mself\u001b[0m\u001b[1;33m.\u001b[0m\u001b[0m_callable_fn\u001b[0m\u001b[1;33m(\u001b[0m\u001b[1;33m*\u001b[0m\u001b[0marray_vals\u001b[0m\u001b[1;33m)\u001b[0m\u001b[1;33m\u001b[0m\u001b[0m\n\u001b[0m\u001b[0;32m   2676\u001b[0m         \u001b[1;32mreturn\u001b[0m \u001b[0mfetched\u001b[0m\u001b[1;33m[\u001b[0m\u001b[1;33m:\u001b[0m\u001b[0mlen\u001b[0m\u001b[1;33m(\u001b[0m\u001b[0mself\u001b[0m\u001b[1;33m.\u001b[0m\u001b[0moutputs\u001b[0m\u001b[1;33m)\u001b[0m\u001b[1;33m]\u001b[0m\u001b[1;33m\u001b[0m\u001b[0m\n\u001b[0;32m   2677\u001b[0m \u001b[1;33m\u001b[0m\u001b[0m\n",
      "\u001b[1;32m~\\Anaconda3\\lib\\site-packages\\tensorflow\\python\\client\\session.py\u001b[0m in \u001b[0;36m__call__\u001b[1;34m(self, *args)\u001b[0m\n\u001b[0;32m   1449\u001b[0m         \u001b[1;32mif\u001b[0m \u001b[0mself\u001b[0m\u001b[1;33m.\u001b[0m\u001b[0m_session\u001b[0m\u001b[1;33m.\u001b[0m\u001b[0m_created_with_new_api\u001b[0m\u001b[1;33m:\u001b[0m\u001b[1;33m\u001b[0m\u001b[0m\n\u001b[0;32m   1450\u001b[0m           return tf_session.TF_SessionRunCallable(\n\u001b[1;32m-> 1451\u001b[1;33m               self._session._session, self._handle, args, status, None)\n\u001b[0m\u001b[0;32m   1452\u001b[0m         \u001b[1;32melse\u001b[0m\u001b[1;33m:\u001b[0m\u001b[1;33m\u001b[0m\u001b[0m\n\u001b[0;32m   1453\u001b[0m           return tf_session.TF_DeprecatedSessionRunCallable(\n",
      "\u001b[1;31mKeyboardInterrupt\u001b[0m: "
     ]
    }
   ],
   "source": [
    "\n",
    "\n",
    "\n",
    "# parameters for data load\n",
    "num_words = len(word_index)\n",
    "print(\"num_words :\", num_words)\n",
    "\n",
    "def vanilla_rnn(num_words, num_outputs, state=50, lra=0.001):\n",
    "    model = Sequential()\n",
    "    model.add(Embedding(num_words + 1, 100, input_length=2380, trainable=False, weights=[embedding_matrix]))\n",
    "    model.add(SimpleRNN(units=state, input_shape = (num_words,1), return_sequences = False))\n",
    "    model.add(Dense(num_outputs, activation='softmax'))\n",
    "    \n",
    "    adam = optimizers.Adam(lr = lra)\n",
    "    model.compile(loss = 'categorical_crossentropy', optimizer = adam, metrics = ['accuracy'])\n",
    "    \n",
    "    return model\n",
    "\n"
   ]
  },
  {
   "cell_type": "markdown",
   "metadata": {},
   "source": [
    "### LSTM"
   ]
  },
  {
   "cell_type": "markdown",
   "metadata": {},
   "source": [
    "# Setup Models"
   ]
  },
  {
   "cell_type": "code",
   "execution_count": null,
   "metadata": {},
   "outputs": [],
   "source": [
    "def runModel(epoch=100, batch=50, state=50, lr=0.001, test=False):\n",
    "    \n",
    "    if test\n",
    "        epoch=10\n",
    "    \n",
    "    model = vanila_rnn(num_words=len(word_index), num_outputs=10, state=state, lra=lr)\n",
    "    model.summary()\n",
    "    history = model.fit(X_train, y_train, validation_data=(X_val, y_val), epochs=epoch, batch_size=batch, verbose=1)\n",
    "\n",
    "    testscore = model.evaluate(X_test, y_test, verbose=0)\n",
    "    print('Test loss:', score[0])\n",
    "    print('Test accuracy:', score[1])\n",
    "    \n",
    "    # save history to file\n",
    "    filename = \"epoch_\"+epoch+\"_batch_\"+batch+\"_\"+\"_state_\"+state+\"_lr_\"+lr\n",
    "    with open('./experiments/history_'+filename, 'w', encoding=\"utf-8\") as fout:\n",
    "        pprint(history.history, fout)\n",
    "    \n",
    "    # save score to file\n",
    "    with open('./experiments/testscore_'+filename, 'w', encoding=\"utf-8\") as fout:\n",
    "        pprint(testscore, fout)"
   ]
  },
  {
   "cell_type": "code",
   "execution_count": null,
   "metadata": {},
   "outputs": [],
   "source": [
    "states = [20, 50, 100, 200, 500]\n",
    "states = [20]\n",
    "lrs = [0.1, 0.01, 0.001]\n",
    "lrs = [0.001]\n",
    "batches = [50, 100, 200]\n",
    "epochs = [100, 200]\n",
    "repeats = 10\n",
    "\n",
    "for state in states:\n",
    "    for lr in lrs:\n",
    "        runModel(lr=lr, state=state)\n",
    "#     for batch in batches:\n",
    "#         runModel(batch=batch, state=state)\n",
    "#     for epoch in epoch:\n",
    "#         runModel(epoch=epoch, state=state)"
   ]
  }
 ],
 "metadata": {
  "kernelspec": {
   "display_name": "Python 3",
   "language": "python",
   "name": "python3"
  },
  "language_info": {
   "codemirror_mode": {
    "name": "ipython",
    "version": 3
   },
   "file_extension": ".py",
   "mimetype": "text/x-python",
   "name": "python",
   "nbconvert_exporter": "python",
   "pygments_lexer": "ipython3",
   "version": "3.6.5"
  }
 },
 "nbformat": 4,
 "nbformat_minor": 2
}
