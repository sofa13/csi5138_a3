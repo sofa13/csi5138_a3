{
 "cells": [
  {
   "cell_type": "markdown",
   "metadata": {},
   "source": [
    "# Report"
   ]
  },
  {
   "cell_type": "markdown",
   "metadata": {},
   "source": [
    "## Overall results"
   ]
  },
  {
   "cell_type": "markdown",
   "metadata": {},
   "source": [
    "For each setting of state dimension [20, 50, 100, 200, 500], we tuned the hyper-parameters \"Learning Rate\", \"Batch Size\", and \"Dropout\", on the models \"Vanilla RNN\" and \"LSTM\", to obtain the best classiﬁcation result (on the testing set). We report our best classification results for both models in the table below. Note Vanilla RNN was only trained for 10 epochs, and LSTM was only trained for 5 epochs, due to long runtime.\n",
    "\n",
    "| Vanilla RNN |  |  |  |  |  |\n",
    "|-----------|----|-----|---------------|------------|---------|\n",
    "| State | Test Loss | Test Accuracy | Learning Rate | Batch Size | Dropout | Epochs |\n",
    "| 20    | 0.6846|  0.5604 |    0.01      |   200      |   0.5   | 10 |\n",
    "| 50    | 0.6911 | 0.5452 |   0.01       |   200      |   0.5  | 10 |\n",
    "| 100   | 0.6834 | 0.5741 |     0.001     |     500    |   0.5  | 10 |\n",
    "| 200   | 0.6936 | 0.5178 |     0.001     |    100     |   0.1   | 10 |\n",
    "| 500    | 0.6952 | 0.5136  |     0.001     |    200     | 0.5    | 10 |\n",
    "\n",
    "| LSTM |  |  |  |  |  |\n",
    "|-----------|----|-----|---------------|------------|---------|\n",
    "| State | Test Loss | Test Accuracy | Learning Rate | Batch Size | Dropout | Epochs |\n",
    "| 20    | 0.6276 | 0.6723 |     0.001      |   100      |  0.1   | 5 |\n",
    "| 50    | 0.4134 | 0.8228 |   0.01       |    200      |  0.1   | 5 |\n",
    "| 100   | 0.4434 | 0.7972 |   0.01       |     200    |   0.1  | 5 |\n",
    "| 200   | 0.6162 | 0.6910 |    0.001      |    100     |  0.5   | 5 |\n",
    "| 500   | 0.6262 | 0.6883 |    0.001      |    100     |  0.1   | 5 |\n",
    "\n",
    "Overall, with input of dimension 500 (we set the max length of sequences to 500 for the reviews based on histogram analysis), we find state dimensions 50 and 100 perform best. For Vanilla RNN we find these states perform best with learning rate 0.01-0.001, larger batch sizes 200-500, and larger dropout 0.5. For LSTM we find these states perform best with learning rate 0.01, batch size 200, and smaller dropout 0.1."
   ]
  },
  {
   "cell_type": "markdown",
   "metadata": {},
   "source": [
    "## Setup"
   ]
  },
  {
   "cell_type": "markdown",
   "metadata": {},
   "source": [
    "For the setup and hyper-parameter settings of each model, we tuned three hyperparameters: learning rate, batch size, and dropout. We chose three learning rates [0.1, 0.01, 0.001], three batch sizes [100, 200, 500], and three dropout percentages [0.1, 0.2, 0.5]. We then created 9 random combinations of the three hyperparameters. Each combination is referred to as a configuration. The 9 configurations are shown in the table below. Note that the same configuration was randomly created twice (config_5 and config_7) and we kept this to see if they would give similar test loss and test accuracy. Note instead of 9 random combinations of the hyperparameters, we could have done all combinations, but it would have taken too long to test all combinations. Instead we relied on 9 random combinations in order to pinpoint obvious hyperparameters that performed well, and then fine tuned further for each state dimension.\n",
    "\n",
    "| Configuration Name | Learning Rate | Batch Size | Dropout |\n",
    "|--------------------|---------------|------------|---------|\n",
    "| config_0           |         0.001 |        100 |     0.5 |\n",
    "| config_1           |         0.001 |        100 |     0.1 |\n",
    "| config_2           |         0.001 |        200 |     0.5 |\n",
    "| config_3           |         0.001 |        500 |     0.5 |\n",
    "| config_4           |           0.1 |        500 |     0.2 |\n",
    "| config_5           |           0.1 |        200 |     0.2 |\n",
    "| config_6           |         0.01 |        200 |     0.1 |\n",
    "| config_7           |           0.1 |        200 |     0.2 |\n",
    "| config_8           |           0.1 |        100 |     0.1 |\n",
    "\n",
    "After running this initial set of 9 configurations for each state dimension, we analyzed the results to determine the general region of hyperparameters that perform well. For example, from many of the smaller state dimensions it was clear that learning rate 0.01 performed better than the other learning rates. \n",
    "\n",
    "For the Vanilla RNN model, for batch size and dropout, we noticed a trend for some states where larger batchsize with larger dropout favoured smaller batchsize with smaller dropout. As the states became larger, we noticed a trend where performance improved with larger batch size and smaller learning rate.\n",
    "\n",
    "For the LSTM model, we noticed a larger learning rate worked well with state dimensions that were medium in size, whereas state dimensions smaller in size or larger in size required smaller learning rates. We also noticed that smaller batch size and smaller dropout generally performed better.\n",
    "\n",
    "Based on these general findings, we then tried a couple specific configurations for each state to get a final tuning of the hyperparameters. The full results of our experiments can be found in the tables below."
   ]
  },
  {
   "cell_type": "markdown",
   "metadata": {},
   "source": [
    "## Hyperparameter tuning results"
   ]
  },
  {
   "cell_type": "markdown",
   "metadata": {},
   "source": [
    "### Vanilla RNN"
   ]
  },
  {
   "cell_type": "markdown",
   "metadata": {},
   "source": [
    "For all experiments it was found that learning rate 0.1 is too large, since the loss and accuracy result are either very large or unstable. For future work with more time for hyperparameter tuning, we would try learning rates [0.01, 0.001, 0.0001] instead. Note that the accuracy was not very good in these initial experiments, possibly because epochs was set to 5, due to long runtimes. In our final experiments we tried with epochs set to 10 and provided our final results in the tables above.\n",
    "\n",
    "| State 20  |           |             |\n",
    "|-----------|-----------|-------------|\n",
    "| Test Loss | Test Acc. | Config Name |\n",
    "|  0.69177         |   0.51196        |   config_6          |\n",
    "|   0.69179        |   0.50812        |   config_2          |\n",
    "|   0.69205        |   0.50758        |   config_0          |\n",
    "|  0.69308         |   0.50522        |   config_3          |\n",
    "|   0.69164        |   0.50334        |   config_1          |\n",
    "|  0.77516         |   0.50212        |   config_7          |\n",
    "|  0.72498         |   0.50164        |   config_4          |\n",
    "|  0.70783         |   0.50020        |   config_8          |\n",
    "|  0.72066         |   0.49420        |   config_5          |\n",
    "\n",
    "| State 50  |           |             |\n",
    "|-----------|-----------|-------------|\n",
    "| Test Loss | Test Acc. | Config Name |\n",
    "|    0.69345       |   0.51184        |   config_6          |\n",
    "|    0.69144       |   0.50754        |   config_0          |\n",
    "|    0.69227       |   0.50750        |   config_1          |\n",
    "|    0.69226       |   0.50746        |   config_3          |\n",
    "|    0.69251       |   0.50070        |   config_2          |\n",
    "|    1.29481       |   0.50000        |   config_7          |\n",
    "|    1.18915       |   0.50000        |   config_8          |\n",
    "|    0.83947       |   0.49844        |   config_4          |\n",
    "|    1.09876       |   0.49836        |   config_5          |\n",
    "\n",
    "| State 100 |           |             |\n",
    "|-----------|-----------|-------------|\n",
    "| Test Loss | Test Acc. | Config Name |\n",
    "|    0.69180       |   0.50814        |   config_3          |\n",
    "|    0.69148       |   0.50312        |   config_2          |\n",
    "|    0.69349       |   0.50238        |   config_6          |\n",
    "|    0.69255       |   0.50026        |   config_0          |\n",
    "|      8.05904     |    0.50000       |   config_4          |\n",
    "|      2.57662     |   0.50000        |   config_5          |\n",
    "|    2.60783       |   0.50000        |   config_7          |\n",
    "|    0.69411       |   0.49868        |   config_1          |\n",
    "|    2.14588       |  0.49816        |   config_8          |\n",
    "\n",
    "| State 200 |           |             |\n",
    "|-----------|-----------|-------------|\n",
    "| Test Loss | Test Acc. | Config Name |\n",
    "|     0.69520      |   0.51784        |     config_1        |\n",
    "|     0.69345      |   0.50588        |     config_0        |\n",
    "|     0.74784      |   0.50512        |   config_6          |\n",
    "|     0.69330      |   0.50162        |     config_2        |\n",
    "|     8.01512      |   0.50000        |   config_4          |\n",
    "|     8.01512      |   0.50000        |   config_5          |\n",
    "|     8.01511      |    0.50000    |   config_7          |\n",
    "|    8.01512       |    0.50000       |   config_8          |\n",
    "|     0.69702      |   0.49530        |     config_3        |\n",
    "\n",
    "| State 500 |           |             |\n",
    "|-----------|-----------|-------------|\n",
    "| Test Loss | Test Acc. | Config Name |\n",
    "|      0.69424     |     0.51358      |      config_2       |\n",
    "|    0.69392       |   0.51254        |      config_0       |\n",
    "|   8.01512        |   0.50000        |          config_4   |\n",
    "|   8.01512        |   0.50000        |          config_5   |\n",
    "|   1.15280        |   0.50000        |          config_6   |\n",
    "|   8.01512        |   0.50000        |          config_7   |\n",
    "|   8.01512        |   0.50000        |  config_8           |\n",
    "|     0.69755      |     0.49932      |      config_1       |\n",
    "|   0.70100        |   0.49572        |      config_3       |"
   ]
  },
  {
   "cell_type": "markdown",
   "metadata": {},
   "source": [
    "### LSTM"
   ]
  },
  {
   "cell_type": "markdown",
   "metadata": {},
   "source": [
    "For all experiments it was found that learning rate 0.1 is too large, since the loss and accuracy result are either very large or unstable. For future work with more time for hyperparameter tuning, we would try learning rates [0.01, 0.001, 0.0001] instead. Note that epochs was set to 5, due to long runtimes.\n",
    "\n",
    "| State 20  |           |             |\n",
    "|-----------|-----------|-------------|\n",
    "| Test Loss | Test Acc. | Config Name |\n",
    "|    0.62763       |   0.67234       |   config_1          |\n",
    "|    0.66054       |   0.61140      |   config_0          |\n",
    "|    0.67462       |   0.58266        |   config_5          |\n",
    "|    0.68641       |   0.55524        |   config_8          |\n",
    "|    0.68129       |   0.52234        |   config_6          |\n",
    "|    0.68536       |   0.52052       |   config_3          |\n",
    "|    0.68487       |   0.51480       |   config_2          |\n",
    "|    0.69117       |   0.51248       |   config_4          |\n",
    "|    0.69201       |   0.50900        |   config_7          |\n",
    "\n",
    "| State 50  |           |             |\n",
    "|-----------|-----------|-------------|\n",
    "| Test Loss | Test Acc. | Config Name |\n",
    "|     0.41336      |    0.82280       |   config_6          |\n",
    "|     0.60391      |    0.71016      |   config_1          |\n",
    "|     0.62444      |    0.67358      |   config_0          |\n",
    "|     0.62708      |    0.67712      |   config_3          |\n",
    "|     0.63644      |    0.65068      |   config_2          |\n",
    "|     0.76512      |    0.50594       |   config_5          |\n",
    "|     0.70890      |    0.50400       |   config_7          |\n",
    "|     0.73332      |    0.50056      |   config_4          |\n",
    "|     nan      |    0.0       |   config_8          |\n",
    "\n",
    "| State 100 |           |             |\n",
    "|-----------|-----------|-------------|\n",
    "| Test Loss | Test Acc. | Config Name |\n",
    "|     0.44345      |   0.79722        |   config_6          |\n",
    "|     0.61233      |   0.70046       |   config_0          |\n",
    "|     0.68327      |   0.56288       |   config_3          |\n",
    "|     0.68622      |   0.51752       |   config_1          |\n",
    "|     0.68637      |   0.51724       |   config_2          |\n",
    "|     0.99211      |   0.50092       |   config_4          |\n",
    "|     1.14479      |   0.50000      |   config_7          |\n",
    "|   1.32716        |    0.50000       |   config_8          |\n",
    "|     nan      |    0.0       |   config_5          |\n",
    "\n",
    "| State 200 |           |             |\n",
    "|-----------|-----------|-------------|\n",
    "| Test Loss | Test Acc. | Config Name |\n",
    "|     0.61623      |    0.69100      |   config_0          |\n",
    "|    0.64355       |    0.66674      |   config_3          |\n",
    "|     0.66822      |    0.57488      |   config_2          |\n",
    "|     0.70374      |    0.50566      |   config_1          |\n",
    "|    0.69335       |   0.5032        |   config_6          |\n",
    "|    5.00720       |    0.5       |   config_7          |\n",
    "|      nan     |    0.0      |   config_4          |\n",
    "|      nan     |    0.0       |   config_5          |\n",
    "|    nan       |    0.0       |   config_8          |\n",
    "\n",
    "| State 500 |           |             |\n",
    "|-----------|-----------|-------------|\n",
    "| Test Loss | Test Acc. | Config Name |\n",
    "|     0.62619      |   0.68832       |   config_1          |\n",
    "|     0.64305      |   0.66090       |   config_0          |\n",
    "|     0.70039      |   0.52762        |   config_6          |\n",
    "|     0.68509      |   0.52372       |   config_3          |\n",
    "|     0.68740      |   0.51210       |   config_2          |\n",
    "|     7.97119      |   0.50000       |   config_4          |\n",
    "|     8.01512      |   0.50000        |   config_5          |\n",
    "|     8.01512      |   0.50000        |   config_7          |\n",
    "|     8.01512      |   0.50000        |   config_8          |"
   ]
  },
  {
   "cell_type": "code",
   "execution_count": null,
   "metadata": {},
   "outputs": [],
   "source": []
  }
 ],
 "metadata": {
  "kernelspec": {
   "display_name": "Python 3",
   "language": "python",
   "name": "python3"
  },
  "language_info": {
   "codemirror_mode": {
    "name": "ipython",
    "version": 3
   },
   "file_extension": ".py",
   "mimetype": "text/x-python",
   "name": "python",
   "nbconvert_exporter": "python",
   "pygments_lexer": "ipython3",
   "version": "3.6.5"
  }
 },
 "nbformat": 4,
 "nbformat_minor": 2
}
